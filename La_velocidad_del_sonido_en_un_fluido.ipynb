{
  "nbformat": 4,
  "nbformat_minor": 0,
  "metadata": {
    "colab": {
      "provenance": [],
      "authorship_tag": "ABX9TyOc/+R5KGXVZaWA/BBMMRxC",
      "include_colab_link": true
    },
    "kernelspec": {
      "name": "python3",
      "display_name": "Python 3"
    },
    "language_info": {
      "name": "python"
    }
  },
  "cells": [
    {
      "cell_type": "markdown",
      "metadata": {
        "id": "view-in-github",
        "colab_type": "text"
      },
      "source": [
        "<a href=\"https://colab.research.google.com/github/programadorJD/Calculando-con-formulas-/blob/Ecuaci%C3%B3n-2/La_velocidad_del_sonido_en_un_fluido.ipynb\" target=\"_parent\"><img src=\"https://colab.research.google.com/assets/colab-badge.svg\" alt=\"Open In Colab\"/></a>"
      ]
    },
    {
      "cell_type": "markdown",
      "source": [
        "# Introducción:"
      ],
      "metadata": {
        "id": "ocO7OOtwJdJx"
      }
    },
    {
      "cell_type": "markdown",
      "source": [
        "La velocidad del sonido en un fluido ideal depende de las propiedades termodinámicas del fluido, como su presión y densidad, y del comportamiento adiabático (sin intercambio de calor).\n",
        "\n",
        "Es:  u = \\sqrt{\\gamma \\cdot \\frac{P}{\\rho}} , donde  P  es la presión y  \\rho  es la densidad.\n",
        "\n",
        "Esta ecuación indica que la velocidad del sonido aumenta con la presión y disminuye con la densidad. Aunque se basa en suposiciones de comportamiento ideal, esta ecuación proporciona una buena aproximación en la mayoría de los fluidos reales."
      ],
      "metadata": {
        "id": "ypGhw6amKff-"
      }
    },
    {
      "cell_type": "markdown",
      "source": [
        "# Ecuación:"
      ],
      "metadata": {
        "id": "RaNHj7h8Khic"
      }
    },
    {
      "cell_type": "markdown",
      "source": [
        "![OIP.jpeg](data:image/jpeg;base64,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)"
      ],
      "metadata": {
        "id": "mjr5W5ZiKm5D"
      }
    },
    {
      "cell_type": "markdown",
      "source": [
        "# Código:"
      ],
      "metadata": {
        "id": "fpkaNxJFK6kE"
      }
    },
    {
      "cell_type": "code",
      "source": [
        "import math\n",
        "\n",
        "def velocidad_sonido(k, R, T, M):\n",
        "  \"\"\"\n",
        "  Calcula la velocidad del sonido en un fluido.\n",
        "\n",
        "  Args:\n",
        "    k: Coeficiente isentrópico (adimensional).\n",
        "    R: Constante universal de los gases ideales (J/mol·K).\n",
        "    T: Temperatura absoluta del fluido (K).\n",
        "    M: Masa molar del fluido (kg/mol).\n",
        "\n",
        "  Returns:\n",
        "    La velocidad del sonido en el fluido (m/s).\n",
        "  \"\"\"\n",
        "\n",
        "  c = math.sqrt(k * R * T / M)\n",
        "  return c\n",
        "\n",
        "# Ejemplo de uso:\n",
        "k = 1.4  # Coeficiente isentrópico para aire (valor típico)\n",
        "R = 8.314  # Constante universal de los gases ideales (J/mol·K)\n",
        "T = 293  # Temperatura en Kelvin (20°C)\n",
        "M = 0.029  # Masa molar del aire (kg/mol)\n",
        "\n",
        "velocidad = velocidad_sonido(k, R, T, M)\n",
        "print(\"La velocidad del sonido en el aire es:\", velocidad, \"m/s\")"
      ],
      "metadata": {
        "colab": {
          "base_uri": "https://localhost:8080/"
        },
        "id": "mqXEQRJ-K-nc",
        "outputId": "38733403-8095-43c9-fcbd-2ec451050390"
      },
      "execution_count": 1,
      "outputs": [
        {
          "output_type": "stream",
          "name": "stdout",
          "text": [
            "La velocidad del sonido en el aire es: 342.9287047648886 m/s\n"
          ]
        }
      ]
    },
    {
      "cell_type": "markdown",
      "source": [
        "# Conclusión:"
      ],
      "metadata": {
        "id": "LPnOrD9DLZet"
      }
    },
    {
      "cell_type": "markdown",
      "source": [
        "En resumen, la ecuación de la velocidad del sonido es una herramienta poderosa que nos permite:\n",
        "\n",
        "Predecir cómo se propagará el sonido en diferentes condiciones.\n",
        "Comparar las propiedades acústicas de distintos fluidos.\n",
        "Diseñar sistemas y dispositivos que aprovechan o controlan la propagación del sonido."
      ],
      "metadata": {
        "id": "xkD2oOIbLdL1"
      }
    },
    {
      "cell_type": "markdown",
      "source": [
        "# Realizado por:"
      ],
      "metadata": {
        "id": "XF_9JLUcERGK"
      }
    },
    {
      "cell_type": "markdown",
      "source": [
        "\n",
        "*   Juan Esteban Doria\n",
        "*   Alejandro Martinez\n",
        "*   Juan David Ortega\n",
        "*   Julian Lopez\n",
        "*   David Caré\n",
        "\n",
        "\n",
        "\n",
        "\n",
        "\n",
        "\n"
      ],
      "metadata": {
        "id": "axKVs8knET94"
      }
    }
  ]
}