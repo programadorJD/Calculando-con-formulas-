{
  "nbformat": 4,
  "nbformat_minor": 0,
  "metadata": {
    "colab": {
      "provenance": [],
      "authorship_tag": "ABX9TyM3Q5o4JRrJUThuJO0x6q3r",
      "include_colab_link": true
    },
    "kernelspec": {
      "name": "python3",
      "display_name": "Python 3"
    },
    "language_info": {
      "name": "python"
    }
  },
  "cells": [
    {
      "cell_type": "markdown",
      "metadata": {
        "id": "view-in-github",
        "colab_type": "text"
      },
      "source": [
        "<a href=\"https://colab.research.google.com/github/programadorJD/Calculando-con-formulas-/blob/Ecuaci%C3%B3n-3/Ecuaci%C3%B3n_de_la_eficiencia_de_una_bomba_hidr%C3%A1ulica.ipynb\" target=\"_parent\"><img src=\"https://colab.research.google.com/assets/colab-badge.svg\" alt=\"Open In Colab\"/></a>"
      ]
    },
    {
      "cell_type": "markdown",
      "source": [
        "# Eficiencia volumetrica de una bomba hidraulica:"
      ],
      "metadata": {
        "id": "my5EHPq4M5HE"
      }
    },
    {
      "cell_type": "markdown",
      "source": [
        "Esta fórmula realmente se refiere a la eficiencia volumétrica de una bomba hidráulica. Esta fórmula considera las pérdidas por fugas internas dentro de la bomba. Se utiliza en ingeniería civil, para calcular la eficiencia de bombas hidráulicas\n",
        "n: es la eficiencia de la bomba (porcentajes o decimales)\n",
        "Qr: es el caudal recirculado\n",
        "Qt: es el caudal total\n",
        "Esta sustracción refleja que, cuanto mayores son las fugas, menor será la eficiencia volumétrica, ya que parte del caudal teórico no se entrega debido a estas pérdidas internas.\n"
      ],
      "metadata": {
        "id": "oE_GvkbfNB8G"
      }
    },
    {
      "cell_type": "markdown",
      "source": [
        "# Ecuación:"
      ],
      "metadata": {
        "id": "lmflmOTINC7j"
      }
    },
    {
      "cell_type": "markdown",
      "source": [
        "![Imagen de WhatsApp 2024-09-22 a las 23.48.01_af128e7f.jpg](data:image/jpeg;base64,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)"
      ],
      "metadata": {
        "id": "akKgu60_NHsl"
      }
    },
    {
      "cell_type": "markdown",
      "source": [
        "# Código:"
      ],
      "metadata": {
        "id": "C0v2C02jNYbb"
      }
    },
    {
      "cell_type": "code",
      "source": [
        "def eficiencia_bomba(densidad, caudal, gravedad, altura, potencia):\n",
        "  \"\"\"\n",
        "  Calcula la eficiencia de una bomba hidráulica.\n",
        "\n",
        "  Args:\n",
        "    densidad: Densidad del fluido (kg/m³).\n",
        "    caudal: Caudal volumétrico (m³/s).\n",
        "    gravedad: Aceleración de la gravedad (m/s²).\n",
        "    altura: Cabeza o altura manométrica (m).\n",
        "    potencia: Potencia mecánica de entrada (W).\n",
        "\n",
        "  Returns:\n",
        "    La eficiencia de la bomba en porcentaje.\n",
        "  \"\"\"\n",
        "\n",
        "  eficiencia = (densidad * caudal * gravedad * altura) / potencia\n",
        "  return eficiencia * 100\n",
        "\n",
        "# Ejemplo de uso:\n",
        "densidad_agua = 1000  # kg/m³\n",
        "caudal = 0.05  # m³/s\n",
        "gravedad = 9.81  # m/s²\n",
        "altura = 20  # m\n",
        "potencia = 1500  # W\n",
        "\n",
        "eficiencia_calculada = eficiencia_bomba(densidad_agua, caudal, gravedad, altura, potencia)\n",
        "print(\"La eficiencia de la bomba es:\", eficiencia_calculada, \"%\")"
      ],
      "metadata": {
        "colab": {
          "base_uri": "https://localhost:8080/"
        },
        "id": "acs6rIm-Ntgs",
        "outputId": "938081e0-3797-486b-b2a5-833ba9fbebd9"
      },
      "execution_count": 1,
      "outputs": [
        {
          "output_type": "stream",
          "name": "stdout",
          "text": [
            "La eficiencia de la bomba es: 654.0 %\n"
          ]
        }
      ]
    },
    {
      "cell_type": "markdown",
      "source": [
        "# Conclusión:"
      ],
      "metadata": {
        "id": "kG78JcydNyj9"
      }
    },
    {
      "cell_type": "markdown",
      "source": [
        "En resumen, la ecuación de la eficiencia de una bomba hidráulica es una herramienta invaluable para ingenieros y técnicos que trabajan con sistemas hidráulicos. Al comprender los factores que influyen en la eficiencia y cómo calcularla, podemos mejorar el diseño, la selección y la operación de bombas, contribuyendo a la eficiencia energética y a la optimización de procesos industriales."
      ],
      "metadata": {
        "id": "QKp1_G1eN6n-"
      }
    },
    {
      "cell_type": "markdown",
      "source": [
        "# Realizado por:"
      ],
      "metadata": {
        "id": "XF_9JLUcERGK"
      }
    },
    {
      "cell_type": "markdown",
      "source": [
        "\n",
        "*   Juan Esteban Doria\n",
        "*   Alejandro Martinez\n",
        "*   Juan David Ortega\n",
        "*   Julian Lopez\n",
        "*   David Caré\n",
        "\n",
        "\n",
        "\n",
        "\n",
        "\n",
        "\n"
      ],
      "metadata": {
        "id": "axKVs8knET94"
      }
    }
  ]
}